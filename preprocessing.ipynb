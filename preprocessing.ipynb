{
  "nbformat": 4,
  "nbformat_minor": 0,
  "metadata": {
    "colab": {
      "provenance": []
    },
    "kernelspec": {
      "name": "python3",
      "display_name": "Python 3"
    },
    "language_info": {
      "name": "python"
    }
  },
  "cells": [
    {
      "cell_type": "code",
      "source": [
        "import pandas as pd\n",
        "\n",
        "# Membuat dataframe dengan missing values (nilai NaN)\n",
        "data = {\n",
        "    'Name'  : [  'John',   'Anna',   'Peter', 'Linda',     None],\n",
        "    'Age'   : [    28,       24,        35,     None,       22],\n",
        "    'City'  : ['New York', 'Paris',    None,   'Berlin', 'London'],\n",
        "    'Income': [  70000,    48000,     59000,   52000,     None]\n",
        "}\n",
        "\n",
        "df = pd.DataFrame(data)\n",
        "print(df)\n"
      ],
      "metadata": {
        "colab": {
          "base_uri": "https://localhost:8080/"
        },
        "id": "xT6hyfG8Tj_f",
        "outputId": "d3379624-7fbb-4d81-d0da-f228b926727c"
      },
      "execution_count": 15,
      "outputs": [
        {
          "output_type": "stream",
          "name": "stdout",
          "text": [
            "    Name   Age      City   Income\n",
            "0   John  28.0  New York  70000.0\n",
            "1   Anna  24.0     Paris  48000.0\n",
            "2  Peter  35.0      None  59000.0\n",
            "3  Linda   NaN    Berlin  52000.0\n",
            "4   None  22.0    London      NaN\n"
          ]
        }
      ]
    },
    {
      "cell_type": "code",
      "source": [
        "df_cleaned = df.dropna()\n",
        "print(df_cleaned)"
      ],
      "metadata": {
        "colab": {
          "base_uri": "https://localhost:8080/"
        },
        "id": "SnlaXPhqVi52",
        "outputId": "a46381d7-5099-4a0b-c80f-5a8e57aaf1bd"
      },
      "execution_count": 16,
      "outputs": [
        {
          "output_type": "stream",
          "name": "stdout",
          "text": [
            "   Name   Age      City   Income\n",
            "0  John  28.0  New York  70000.0\n",
            "1  Anna  24.0     Paris  48000.0\n"
          ]
        }
      ]
    },
    {
      "cell_type": "code",
      "source": [
        "\n",
        "df_filled = df.fillna({\n",
        "    'Name': 'iqbal',   # Mengisi nama yang hilang dengan 'Unknown'\n",
        "    'Age': '20',  # Mengisi umur yang hilang dengan rata-rata umur\n",
        "    'City': 'Spain',   # Mengisi kota yang hilang dengan 'Unknown'\n",
        "    'Income': df['Income'].mean()  # Mengisi pendapatan yang hilang dengan rata-rata pendapatan\n",
        "})\n",
        "\n",
        "print(\"Data setelah mengisi missing values:\")\n",
        "print(df_filled)\n",
        "\n"
      ],
      "metadata": {
        "colab": {
          "base_uri": "https://localhost:8080/"
        },
        "id": "yNg0BMYfVvVy",
        "outputId": "04736252-753f-47bf-9843-0f7403cb5cb5"
      },
      "execution_count": 25,
      "outputs": [
        {
          "output_type": "stream",
          "name": "stdout",
          "text": [
            "Data setelah mengisi missing values:\n",
            "    Name   Age      City   Income\n",
            "0   John  28.0  New York  70000.0\n",
            "1   Anna  24.0     Paris  48000.0\n",
            "2  Peter  35.0     Spain  59000.0\n",
            "3  Linda    20    Berlin  52000.0\n",
            "4  iqbal  22.0    London  57250.0\n"
          ]
        }
      ]
    },
    {
      "cell_type": "code",
      "source": [
        "\n",
        "print(df.isnull())\n",
        "\n",
        "print(df.isnull().sum())\n"
      ],
      "metadata": {
        "colab": {
          "base_uri": "https://localhost:8080/"
        },
        "id": "qAuq-xPUV8cv",
        "outputId": "76b28a56-2d7c-4b13-edbe-92be7956dcd9"
      },
      "execution_count": 19,
      "outputs": [
        {
          "output_type": "stream",
          "name": "stdout",
          "text": [
            "    Name    Age   City  Income\n",
            "0  False  False  False   False\n",
            "1  False  False  False   False\n",
            "2  False  False   True   False\n",
            "3  False   True  False   False\n",
            "4   True  False  False    True\n",
            "Name      1\n",
            "Age       1\n",
            "City      1\n",
            "Income    1\n",
            "dtype: int64\n"
          ]
        }
      ]
    },
    {
      "cell_type": "code",
      "source": [
        "\n",
        "df_interpolated = df.interpolate()\n",
        "\n",
        "print(df_interpolated)\n"
      ],
      "metadata": {
        "colab": {
          "base_uri": "https://localhost:8080/"
        },
        "id": "GPRfe4oyWJOU",
        "outputId": "997e977c-2d23-4360-9b5f-16141060ac11"
      },
      "execution_count": 20,
      "outputs": [
        {
          "output_type": "stream",
          "name": "stdout",
          "text": [
            "    Name   Age      City   Income\n",
            "0   John  28.0  New York  70000.0\n",
            "1   Anna  24.0     Paris  48000.0\n",
            "2  Peter  35.0      None  59000.0\n",
            "3  Linda  28.5    Berlin  52000.0\n",
            "4   None  22.0    London  52000.0\n"
          ]
        },
        {
          "output_type": "stream",
          "name": "stderr",
          "text": [
            "<ipython-input-20-0a77954c81b5>:1: FutureWarning: DataFrame.interpolate with object dtype is deprecated and will raise in a future version. Call obj.infer_objects(copy=False) before interpolating instead.\n",
            "  df_interpolated = df.interpolate()\n"
          ]
        }
      ]
    }
  ]
}